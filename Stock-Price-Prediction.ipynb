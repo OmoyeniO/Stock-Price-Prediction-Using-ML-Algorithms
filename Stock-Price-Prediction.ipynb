{
 "cells": [
  {
   "cell_type": "code",
   "execution_count": 2,
   "id": "cdafff67",
   "metadata": {},
   "outputs": [],
   "source": [
    "import os\n",
    "import numpy as np\n",
    "import pandas as pd\n",
    "import requests\n",
    "import matplotlib.pyplot as plt"
   ]
  },
  {
   "cell_type": "code",
   "execution_count": 8,
   "id": "9410fc32",
   "metadata": {},
   "outputs": [],
   "source": [
    "aapl = requests.get('https://query1.finance.yahoo.com/v8/finance/chart/{aapl}')\n",
    "#?modules={json of modules}"
   ]
  },
  {
   "cell_type": "code",
   "execution_count": 9,
   "id": "e7fd3fac",
   "metadata": {},
   "outputs": [
    {
     "name": "stdout",
     "output_type": "stream",
     "text": [
      "<Response [403]>\n"
     ]
    }
   ],
   "source": [
    "print(aapl)"
   ]
  },
  {
   "cell_type": "code",
   "execution_count": 15,
   "id": "f24e9533",
   "metadata": {},
   "outputs": [],
   "source": [
    "#pd.read_json()"
   ]
  },
  {
   "cell_type": "code",
   "execution_count": null,
   "id": "90880b99",
   "metadata": {},
   "outputs": [],
   "source": []
  }
 ],
 "metadata": {
  "kernelspec": {
   "display_name": "Python 3",
   "language": "python",
   "name": "python3"
  },
  "language_info": {
   "codemirror_mode": {
    "name": "ipython",
    "version": 3
   },
   "file_extension": ".py",
   "mimetype": "text/x-python",
   "name": "python",
   "nbconvert_exporter": "python",
   "pygments_lexer": "ipython3",
   "version": "3.8.8"
  }
 },
 "nbformat": 4,
 "nbformat_minor": 5
}
